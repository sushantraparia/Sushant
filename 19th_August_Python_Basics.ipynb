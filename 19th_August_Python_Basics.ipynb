{
 "cells": [
  {
   "cell_type": "code",
   "execution_count": 20,
   "id": "4c8b1019-101e-4301-95da-8c5f7ed5146b",
   "metadata": {},
   "outputs": [],
   "source": [
    "x=3\n",
    "y=5\n",
    "#Declare two variables, `x` and `y`, and assign them integer values. Swap the\n",
    "#values of these variables without using any temporary variable."
   ]
  },
  {
   "cell_type": "code",
   "execution_count": 21,
   "id": "85caa14c-4d11-4215-b4f5-09f1c8c0275e",
   "metadata": {},
   "outputs": [],
   "source": [
    "x=5\n",
    "y=3"
   ]
  },
  {
   "cell_type": "code",
   "execution_count": null,
   "id": "c25be2e0-6340-4957-86f3-b06197a7a75d",
   "metadata": {},
   "outputs": [],
   "source": [
    "#Create a program that calculates the area of a rectangle. Take the length and\n",
    "##width as inputs from the user and store them in variables. Calculate and\n",
    "##display the area."
   ]
  },
  {
   "cell_type": "code",
   "execution_count": 23,
   "id": "d627ccc4-8753-4d08-b192-9bfa7ae7cc2d",
   "metadata": {},
   "outputs": [
    {
     "name": "stdin",
     "output_type": "stream",
     "text": [
      " 3\n",
      " 4\n"
     ]
    }
   ],
   "source": [
    "length=int(input())\n",
    "width=int(input())\n"
   ]
  },
  {
   "cell_type": "code",
   "execution_count": 25,
   "id": "640c1c74-6c3f-4875-9e64-0bd30b31cd12",
   "metadata": {},
   "outputs": [],
   "source": [
    "area=length*width\n"
   ]
  },
  {
   "cell_type": "code",
   "execution_count": 26,
   "id": "2e2092ef-c5cd-4ca5-bc43-d45f0a81c136",
   "metadata": {},
   "outputs": [
    {
     "data": {
      "text/plain": [
       "12"
      ]
     },
     "execution_count": 26,
     "metadata": {},
     "output_type": "execute_result"
    }
   ],
   "source": [
    "area"
   ]
  },
  {
   "cell_type": "code",
   "execution_count": null,
   "id": "db3b7f5a-ddd1-49f8-b64f-3fb2dc3b04a9",
   "metadata": {},
   "outputs": [],
   "source": []
  },
  {
   "cell_type": "code",
   "execution_count": 27,
   "id": "5d028249-c378-40de-a584-7142329325f3",
   "metadata": {},
   "outputs": [],
   "source": [
    "#Write a Python program that converts temperatures from Celsius to\n",
    "#Fahrenheit. Take the temperature in Celsius as input, store it in a variable,\n",
    "#convert it to Fahrenheit, and display the result.\n"
   ]
  },
  {
   "cell_type": "code",
   "execution_count": 33,
   "id": "11fab5ce-ec98-472a-a13a-3ccbaddc9d95",
   "metadata": {},
   "outputs": [
    {
     "name": "stdin",
     "output_type": "stream",
     "text": [
      " 32\n"
     ]
    }
   ],
   "source": [
    "temp =float(input())"
   ]
  },
  {
   "cell_type": "code",
   "execution_count": 35,
   "id": "5b3853bb-4544-4dc9-8ae7-bb1400907b8f",
   "metadata": {},
   "outputs": [
    {
     "data": {
      "text/plain": [
       "32.0"
      ]
     },
     "execution_count": 35,
     "metadata": {},
     "output_type": "execute_result"
    }
   ],
   "source": [
    "temp"
   ]
  },
  {
   "cell_type": "code",
   "execution_count": 36,
   "id": "54223049-a875-4ffa-b97f-df82449b5cc9",
   "metadata": {},
   "outputs": [],
   "source": [
    "far=(1.8*temp)+32"
   ]
  },
  {
   "cell_type": "code",
   "execution_count": 37,
   "id": "896db1e2-ef9b-4bcf-8086-8a1633633cfd",
   "metadata": {},
   "outputs": [
    {
     "data": {
      "text/plain": [
       "89.6"
      ]
     },
     "execution_count": 37,
     "metadata": {},
     "output_type": "execute_result"
    }
   ],
   "source": [
    "far"
   ]
  },
  {
   "cell_type": "code",
   "execution_count": null,
   "id": "e65ee8a9-3cf2-40a0-b76e-d943e0a45a7d",
   "metadata": {},
   "outputs": [],
   "source": []
  },
  {
   "cell_type": "code",
   "execution_count": 38,
   "id": "6198dfc9-f000-43e3-9ce1-ca26be01d8c2",
   "metadata": {},
   "outputs": [],
   "source": [
    "#Write a Python program that takes a string as input and prints the length of\n",
    "#the string."
   ]
  },
  {
   "cell_type": "code",
   "execution_count": 40,
   "id": "96f12962-8b58-4485-9f2a-d78a6b0a348e",
   "metadata": {},
   "outputs": [],
   "source": [
    "str='pwskills'\n"
   ]
  },
  {
   "cell_type": "code",
   "execution_count": 42,
   "id": "ea61dadc-0769-4883-adbd-736b8b5c3ed9",
   "metadata": {},
   "outputs": [
    {
     "data": {
      "text/plain": [
       "8"
      ]
     },
     "execution_count": 42,
     "metadata": {},
     "output_type": "execute_result"
    }
   ],
   "source": [
    "len(str)"
   ]
  },
  {
   "cell_type": "code",
   "execution_count": 43,
   "id": "751a0d2f-b94c-4fee-8437-0d2aea32d0fc",
   "metadata": {},
   "outputs": [],
   "source": [
    "#Create a program that takes a sentence from the user and counts the number\n",
    "#of vowels (a, e, i, o, u) in the string."
   ]
  },
  {
   "cell_type": "code",
   "execution_count": 61,
   "id": "d1f1f6b3-dfe3-40a8-9b48-0aedd7ee3273",
   "metadata": {},
   "outputs": [
    {
     "name": "stdin",
     "output_type": "stream",
     "text": [
      " i love india\n"
     ]
    }
   ],
   "source": [
    "Sentence=(input())\n"
   ]
  },
  {
   "cell_type": "code",
   "execution_count": 62,
   "id": "f0b8477f-2f61-4cc0-a6f3-432db74f7c23",
   "metadata": {},
   "outputs": [],
   "source": [
    "def count_vowels(Sentence):\n",
    "    vowels='aeiou'\n",
    "    count=0\n",
    "    for letter in Sentence:\n",
    "        if letter in vowels:\n",
    "            count+=1\n",
    "            return count\n",
    "    \n"
   ]
  },
  {
   "cell_type": "code",
   "execution_count": 63,
   "id": "258cca84-b23f-4f48-ab1f-cc03795eeecb",
   "metadata": {},
   "outputs": [
    {
     "name": "stdout",
     "output_type": "stream",
     "text": [
      "1\n"
     ]
    }
   ],
   "source": [
    "print (count_vowels(Sentence))"
   ]
  },
  {
   "cell_type": "code",
   "execution_count": null,
   "id": "b95f8ab4-0df7-40ed-b592-c850d25a12a6",
   "metadata": {},
   "outputs": [],
   "source": []
  },
  {
   "cell_type": "code",
   "execution_count": 64,
   "id": "ecaee73f-8e27-4fdb-a0b8-5df1685cab64",
   "metadata": {},
   "outputs": [],
   "source": [
    "#Given a string, reverse the order of characters using string slicing and print\n",
    "#the reversed string."
   ]
  },
  {
   "cell_type": "code",
   "execution_count": 66,
   "id": "d57f4899-eb4b-4eb8-9d04-20225b7f3b6f",
   "metadata": {},
   "outputs": [],
   "source": [
    "s1='pwskills'\n"
   ]
  },
  {
   "cell_type": "code",
   "execution_count": 69,
   "id": "a306e070-3208-4d78-b9f6-935b6a42bd23",
   "metadata": {},
   "outputs": [
    {
     "data": {
      "text/plain": [
       "'sllikswp'"
      ]
     },
     "execution_count": 69,
     "metadata": {},
     "output_type": "execute_result"
    }
   ],
   "source": [
    "s1[-1:-9:-1]"
   ]
  },
  {
   "cell_type": "code",
   "execution_count": 71,
   "id": "909ddbe9-0f1a-4551-b104-1cfb173629c1",
   "metadata": {},
   "outputs": [
    {
     "name": "stdout",
     "output_type": "stream",
     "text": [
      "pwskills\n"
     ]
    }
   ],
   "source": [
    "print (s1)\n"
   ]
  },
  {
   "cell_type": "code",
   "execution_count": null,
   "id": "ab821f2f-acf9-44e5-92e9-c169c544403a",
   "metadata": {},
   "outputs": [],
   "source": []
  },
  {
   "cell_type": "code",
   "execution_count": 72,
   "id": "d4331e47-2e99-42d7-8e04-a70e938d01f6",
   "metadata": {},
   "outputs": [],
   "source": [
    "#Write a program that takes a string as input and checks if it is a palindrome\n",
    "#(reads the same forwards and backwards).\n"
   ]
  },
  {
   "cell_type": "code",
   "execution_count": 75,
   "id": "bfa9a5ec-0e9c-413a-8ad2-9d163f0c42bc",
   "metadata": {},
   "outputs": [
    {
     "name": "stdout",
     "output_type": "stream",
     "text": [
      "yes\n"
     ]
    }
   ],
   "source": [
    "#reverse function\n",
    "def isPalindrome(s):\n",
    "    return s==s[::-1]\n",
    "#code\n",
    "s='sos'\n",
    "ans=isPalindrome(s)\n",
    "if ans:\n",
    "    print('yes')\n",
    "else:\n",
    "        print('No')"
   ]
  },
  {
   "cell_type": "code",
   "execution_count": null,
   "id": "f6df348d-aecc-4b9c-917b-9197a51c3ae6",
   "metadata": {},
   "outputs": [],
   "source": []
  },
  {
   "cell_type": "code",
   "execution_count": 76,
   "id": "3e424cd9-7b75-4bf2-a327-e7cb9d4cf4e6",
   "metadata": {},
   "outputs": [],
   "source": [
    "#Create a program that takes a string as input and removes all the spaces from\n",
    "#it. Print the modified string without spaces."
   ]
  },
  {
   "cell_type": "code",
   "execution_count": 77,
   "id": "fb6d440f-6b02-492d-822f-536db177a9d0",
   "metadata": {},
   "outputs": [
    {
     "name": "stdin",
     "output_type": "stream",
     "text": [
      " p w s k i l l s\n"
     ]
    },
    {
     "name": "stdout",
     "output_type": "stream",
     "text": [
      "pwskills\n"
     ]
    }
   ],
   "source": [
    "def remove(string):\n",
    "    return string.replace(\" \",\"\")\n",
    "string=input()\n",
    "print(remove(string))"
   ]
  },
  {
   "cell_type": "code",
   "execution_count": null,
   "id": "a77e679e-b2e3-4b92-8964-8b8bb83e0eeb",
   "metadata": {},
   "outputs": [],
   "source": []
  }
 ],
 "metadata": {
  "kernelspec": {
   "display_name": "Python 3 (ipykernel)",
   "language": "python",
   "name": "python3"
  },
  "language_info": {
   "codemirror_mode": {
    "name": "ipython",
    "version": 3
   },
   "file_extension": ".py",
   "mimetype": "text/x-python",
   "name": "python",
   "nbconvert_exporter": "python",
   "pygments_lexer": "ipython3",
   "version": "3.10.8"
  }
 },
 "nbformat": 4,
 "nbformat_minor": 5
}
